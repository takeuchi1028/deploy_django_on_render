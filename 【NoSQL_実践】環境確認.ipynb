{
  "nbformat": 4,
  "nbformat_minor": 0,
  "metadata": {
    "colab": {
      "provenance": [],
      "collapsed_sections": [],
      "authorship_tag": "ABX9TyPzf79LH/R9PJFRX64mKD4b",
      "include_colab_link": true
    },
    "kernelspec": {
      "name": "python3",
      "display_name": "Python 3"
    },
    "language_info": {
      "name": "python"
    }
  },
  "cells": [
    {
      "cell_type": "markdown",
      "metadata": {
        "id": "view-in-github",
        "colab_type": "text"
      },
      "source": [
        "<a href=\"https://colab.research.google.com/github/takeuchi1028/deploy_django_on_render/blob/main/%E3%80%90NoSQL_%E5%AE%9F%E8%B7%B5%E3%80%91%E7%92%B0%E5%A2%83%E7%A2%BA%E8%AA%8D.ipynb\" target=\"_parent\"><img src=\"https://colab.research.google.com/assets/colab-badge.svg\" alt=\"Open In Colab\"/></a>"
      ]
    },
    {
      "cell_type": "markdown",
      "source": [
        "# 環境確認\n",
        "\n",
        "以下のコードが実行可能かについてご確認をお願いいたします。コードは左にある再生ボタンか、Shift + Enter キーで実行できます。"
      ],
      "metadata": {
        "id": "56MBgCx66esg"
      }
    },
    {
      "cell_type": "code",
      "execution_count": 1,
      "metadata": {
        "colab": {
          "base_uri": "https://localhost:8080/"
        },
        "id": "1BZDcQ_66bBw",
        "outputId": "d41cc92b-8291-4027-b35a-b1593b3fc3eb"
      },
      "outputs": [
        {
          "output_type": "stream",
          "name": "stdout",
          "text": [
            "debconf: unable to initialize frontend: Dialog\n",
            "debconf: (No usable dialog-like program is installed, so the dialog based frontend cannot be used. at /usr/share/perl5/Debconf/FrontEnd/Dialog.pm line 76, <> line 8.)\n",
            "debconf: falling back to frontend: Readline\n",
            "debconf: unable to initialize frontend: Readline\n",
            "debconf: (This frontend requires a controlling tty.)\n",
            "debconf: falling back to frontend: Teletype\n",
            "dpkg-preconfigure: unable to re-open stdin: \n",
            "Selecting previously unselected package libpcap0.8:amd64.\n",
            "(Reading database ... 123942 files and directories currently installed.)\n",
            "Preparing to unpack .../0-libpcap0.8_1.8.1-6ubuntu1.18.04.2_amd64.deb ...\n",
            "Unpacking libpcap0.8:amd64 (1.8.1-6ubuntu1.18.04.2) ...\n",
            "Selecting previously unselected package libstemmer0d:amd64.\n",
            "Preparing to unpack .../1-libstemmer0d_0+svn585-1build1_amd64.deb ...\n",
            "Unpacking libstemmer0d:amd64 (0+svn585-1build1) ...\n",
            "Selecting previously unselected package libyaml-cpp0.5v5:amd64.\n",
            "Preparing to unpack .../2-libyaml-cpp0.5v5_0.5.2-4ubuntu1_amd64.deb ...\n",
            "Unpacking libyaml-cpp0.5v5:amd64 (0.5.2-4ubuntu1) ...\n",
            "Selecting previously unselected package mongo-tools.\n",
            "Preparing to unpack .../3-mongo-tools_3.6.3-0ubuntu1_amd64.deb ...\n",
            "Unpacking mongo-tools (3.6.3-0ubuntu1) ...\n",
            "Selecting previously unselected package mongodb-clients.\n",
            "Preparing to unpack .../4-mongodb-clients_1%3a3.6.3-0ubuntu1.4_amd64.deb ...\n",
            "Unpacking mongodb-clients (1:3.6.3-0ubuntu1.4) ...\n",
            "Selecting previously unselected package mongodb-server-core.\n",
            "Preparing to unpack .../5-mongodb-server-core_1%3a3.6.3-0ubuntu1.4_amd64.deb ...\n",
            "Unpacking mongodb-server-core (1:3.6.3-0ubuntu1.4) ...\n",
            "Selecting previously unselected package mongodb-server.\n",
            "Preparing to unpack .../6-mongodb-server_1%3a3.6.3-0ubuntu1.4_all.deb ...\n",
            "Unpacking mongodb-server (1:3.6.3-0ubuntu1.4) ...\n",
            "Selecting previously unselected package mongodb.\n",
            "Preparing to unpack .../7-mongodb_1%3a3.6.3-0ubuntu1.4_amd64.deb ...\n",
            "Unpacking mongodb (1:3.6.3-0ubuntu1.4) ...\n",
            "Setting up libstemmer0d:amd64 (0+svn585-1build1) ...\n",
            "Setting up libyaml-cpp0.5v5:amd64 (0.5.2-4ubuntu1) ...\n",
            "Setting up mongodb-server-core (1:3.6.3-0ubuntu1.4) ...\n",
            "Setting up libpcap0.8:amd64 (1.8.1-6ubuntu1.18.04.2) ...\n",
            "Setting up mongodb-clients (1:3.6.3-0ubuntu1.4) ...\n",
            "Setting up mongodb-server (1:3.6.3-0ubuntu1.4) ...\n",
            "invoke-rc.d: could not determine current runlevel\n",
            "invoke-rc.d: policy-rc.d denied execution of start.\n",
            "Created symlink /etc/systemd/system/multi-user.target.wants/mongodb.service → /lib/systemd/system/mongodb.service.\n",
            "Setting up mongo-tools (3.6.3-0ubuntu1) ...\n",
            "Setting up mongodb (1:3.6.3-0ubuntu1.4) ...\n",
            "Processing triggers for systemd (237-3ubuntu10.56) ...\n",
            "Processing triggers for man-db (2.8.3-2ubuntu0.1) ...\n",
            "Processing triggers for libc-bin (2.27-3ubuntu1.6) ...\n",
            " * Restarting database mongodb\n",
            "   ...done.\n"
          ]
        }
      ],
      "source": [
        "# MongoDB のインストール\n",
        "!sudo  apt-get -qq install mongodb\n",
        "!sudo  apt-get -qq update\n",
        "!sudo service mongodb restart "
      ]
    },
    {
      "cell_type": "code",
      "source": [
        "# クラスの定義\n",
        "import pymongo\n",
        "class MongoFindSample(object):\n",
        "\n",
        "    def __init__(self, dbName, collectionName):\n",
        "        self.client = pymongo.MongoClient('mongodb://127.0.0.1:27017')\n",
        "        self.db = self.client[dbName] \n",
        "        self.collection = self.db.get_collection(collectionName) \n",
        "\n",
        "    def find_one(self, projection=None,filter=None, sort=None):\n",
        "        return self.collection.find_one(projection=projection,filter=filter,sort=sort)\n",
        "\n",
        "    def find(self, projection=None,filter=None, sort=None):\n",
        "        return self.collection.find(projection=projection,filter=filter,sort=sort)\n",
        "\n",
        "    def insert_one(self, document):\n",
        "        return self.collection.insert_one(document)\n",
        "\n",
        "    def insert_many(self, documents):\n",
        "        return self.collection.insert_many(documents)\n",
        "# データのダウンロード\n",
        "# 公式 web https://www.mongodb.com/docs/manual/tutorial/aggregation-zip-code-data-set/\n",
        "!curl -OL media.mongodb.org/zips.json\n",
        "# ダウンロードフォルダの表示\n",
        "!find -name \"zips.json\" \n",
        "# データのインポート\n",
        "!mongoimport --db test --collection zips_information --drop --file zips.json\n",
        "# インスタンス化\n",
        "mongo = MongoFindSample('test', 'zips_information')"
      ],
      "metadata": {
        "colab": {
          "base_uri": "https://localhost:8080/"
        },
        "id": "HuA3zw9B61xm",
        "outputId": "72eebfb4-d7db-4b4f-b5b9-72425d129a1c"
      },
      "execution_count": 2,
      "outputs": [
        {
          "output_type": "stream",
          "name": "stdout",
          "text": [
            "  % Total    % Received % Xferd  Average Speed   Time    Time     Time  Current\n",
            "                                 Dload  Upload   Total   Spent    Left  Speed\n",
            "100   167  100   167    0     0   2012      0 --:--:-- --:--:-- --:--:--  2012\n",
            "100 3107k  100 3107k    0     0  14.5M      0 --:--:-- --:--:-- --:--:-- 14.5M\n",
            "./zips.json\n",
            "2022-11-14T10:51:08.910+0000\tconnected to: localhost\n",
            "2022-11-14T10:51:08.910+0000\tdropping: test.zips_information\n",
            "2022-11-14T10:51:09.367+0000\timported 29353 documents\n"
          ]
        }
      ]
    },
    {
      "cell_type": "code",
      "source": [
        "# 1 つ選択\n",
        "doc = mongo.find_one()\n",
        "print(doc)"
      ],
      "metadata": {
        "colab": {
          "base_uri": "https://localhost:8080/"
        },
        "id": "LmAbp6J265Jj",
        "outputId": "219c6c3e-459c-4302-9fbb-640e9199f964"
      },
      "execution_count": 3,
      "outputs": [
        {
          "output_type": "stream",
          "name": "stdout",
          "text": [
            "{'_id': '01002', 'city': 'CUSHMAN', 'loc': [-72.51565, 42.377017], 'pop': 36963, 'state': 'MA'}\n"
          ]
        }
      ]
    },
    {
      "cell_type": "code",
      "source": [],
      "metadata": {
        "id": "zwJTcm8u7UAG"
      },
      "execution_count": 3,
      "outputs": []
    }
  ]
}